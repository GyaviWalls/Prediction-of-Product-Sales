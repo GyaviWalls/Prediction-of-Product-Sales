{
  "nbformat": 4,
  "nbformat_minor": 0,
  "metadata": {
    "colab": {
      "provenance": [],
      "authorship_tag": "ABX9TyPIICBVEcSaV6HnNfahd+/M",
      "include_colab_link": true
    },
    "kernelspec": {
      "name": "python3",
      "display_name": "Python 3"
    },
    "language_info": {
      "name": "python"
    }
  },
  "cells": [
    {
      "cell_type": "markdown",
      "metadata": {
        "id": "view-in-github",
        "colab_type": "text"
      },
      "source": [
        "<a href=\"https://colab.research.google.com/github/GyaviWalls/Prediction-of-Product-Sales/blob/main/Prediction_of_Product_Sales.ipynb\" target=\"_parent\"><img src=\"https://colab.research.google.com/assets/colab-badge.svg\" alt=\"Open In Colab\"/></a>"
      ]
    },
    {
      "cell_type": "markdown",
      "source": [
        "# Prediction of Product Sales\n",
        "- Author: Ayebare Gyavira.B"
      ],
      "metadata": {
        "id": "N9F3IrKqBvo_"
      }
    },
    {
      "cell_type": "markdown",
      "source": [
        "## Project Overview\n",
        "\n",
        "####Project 1 - Part 2 (Core):\n",
        "\n",
        "\n",
        "The first project will be a sales prediction for food items sold at various stores. The goal of this is to help the retailer understand the properties of products and outlets that play crucial roles in increasing sales.\n",
        "\n",
        "---\n",
        "\n",
        "For Part 2, your task is to use Pandas to load in the data and start exploring and cleaning it. As data scientists, about [80% of our time is spent on data preparation](https://www.forbes.com/sites/gilpress/2016/03/23/data-preparation-most-time-consuming-least-enjoyable-data-science-task-survey-says/?sh=478ec4796f63) - so this is a very important step!\n",
        "\n",
        "---\n",
        "\n",
        "Download the data using this link: [download the data.](https://drive.google.com/file/d/1syH81TVrbBsdymLT_jl2JIf6IjPXtSQw/view?usp=sharing) \\(Note: [Original data source](https://https://datahack.analyticsvidhya.com/contest/practice-problem-big-mart-sales-iii/)).\n",
        "Insert code below the heading \"Loading Data\"\n",
        "Use Pandas to read the sales prediction data set into Google Colab.\n",
        "Use df.info() and df.head() methods to preview the first rows of your data and a summary of your DataFrame's columns.\n",
        "Insert code below the heading \"Data Cleaning\"\n",
        "Explore the data - what do you need to do to clean this data? Clean it!\n",
        "Be sure to address each of the following tasks:\n",
        "\n",
        "---\n",
        "\n",
        "1) How many rows and columns?\n",
        "\n",
        "2) What are the datatypes of each variable?\n",
        "\n",
        "3) Are there duplicates? If so, drop any duplicates.\n",
        "\n",
        "4) Identify missing values.\n",
        "\n",
        "5) Address the missing values by using a placeholder value.\n",
        "\n",
        "6) Confirm that there are no missing values after addressing them.\n",
        "\n",
        "7) Find and fix any inconsistent categories of data (for example: fix cat, Cat, and cats so that they are consistent).\n",
        "\n",
        "8) For any numerical columns, obtain the summary statistics of each (min, max, mean).\n",
        "\n",
        "---\n",
        "\n",
        "Here is the Data Dictionary for this dataset:\n",
        "\n",
        "| Variable Name | Description |\n",
        "|:--------:|:--------:|\n",
        "|  Item_Identifier |  Product ID   |\n",
        "|  Item_Weight |  Weight of product  |\n",
        "|  Item_Fat_Content\t  |  Whether the product is low-fat or regular |\n",
        "|  Item_Visibility\t  |  The percentage of total display area of all products in a store allocated to the particular product   |\n",
        "|  Item_Type |  The category to which the product belongs  |\n",
        "|  Item_MRP  |  Maximum Retail Price (list price) of the product  |\n",
        "|  Outlet_Identifier   |  Store ID   |\n",
        "|  Outlet_Establishment_Year\t  |  The year in which store was established |\n",
        "|  Outlet_Size |  The size of the store in terms of ground area covered  |\n",
        "|  Outlet_Location_Type |  The type of area in which the store is located   |\n",
        "|  Outlet_Type |  Whether the outlet is a grocery store or some sort of supermarket  |\n",
        "|  Item_Outlet_Sales |  Sales of the product in the particular store. This is the target variable to be predicted  |\n",
        "\n"
      ],
      "metadata": {
        "id": "gfs4YsKMBvmZ"
      }
    },
    {
      "cell_type": "markdown",
      "source": [
        "## Load and Inspect Data\n"
      ],
      "metadata": {
        "id": "kBoaklalBvjy"
      }
    },
    {
      "cell_type": "code",
      "source": [],
      "metadata": {
        "id": "DMDy8Y15CfmO"
      },
      "execution_count": null,
      "outputs": []
    },
    {
      "cell_type": "markdown",
      "source": [
        "## Clean Data\n",
        "\n"
      ],
      "metadata": {
        "id": "2utfIRYhBvhL"
      }
    },
    {
      "cell_type": "code",
      "source": [],
      "metadata": {
        "id": "zUBh4NBGCgV6"
      },
      "execution_count": null,
      "outputs": []
    },
    {
      "cell_type": "markdown",
      "source": [
        "## Exploratory Data Analysis\n"
      ],
      "metadata": {
        "id": "YiaK1wHoB6NB"
      }
    },
    {
      "cell_type": "code",
      "source": [],
      "metadata": {
        "id": "Bz2FqHeRChST"
      },
      "execution_count": null,
      "outputs": []
    },
    {
      "cell_type": "markdown",
      "source": [
        "## Feature Inspection\n"
      ],
      "metadata": {
        "id": "b70BneeXB9CR"
      }
    },
    {
      "cell_type": "code",
      "execution_count": null,
      "metadata": {
        "id": "RBnGisK2BRH-"
      },
      "outputs": [],
      "source": []
    }
  ]
}