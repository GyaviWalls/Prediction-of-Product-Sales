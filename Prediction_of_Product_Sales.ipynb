{
  "nbformat": 4,
  "nbformat_minor": 0,
  "metadata": {
    "colab": {
      "provenance": [],
      "authorship_tag": "ABX9TyPpw6K0HCXHSgZrAQKcNI5R",
      "include_colab_link": true
    },
    "kernelspec": {
      "name": "python3",
      "display_name": "Python 3"
    },
    "language_info": {
      "name": "python"
    }
  },
  "cells": [
    {
      "cell_type": "markdown",
      "metadata": {
        "id": "view-in-github",
        "colab_type": "text"
      },
      "source": [
        "<a href=\"https://colab.research.google.com/github/GyaviWalls/Prediction-of-Product-Sales/blob/main/Prediction_of_Product_Sales.ipynb\" target=\"_parent\"><img src=\"https://colab.research.google.com/assets/colab-badge.svg\" alt=\"Open In Colab\"/></a>"
      ]
    },
    {
      "cell_type": "markdown",
      "source": [
        "# Prediction of Product Sales\n",
        "- Author: Ayebare Gyavira.B"
      ],
      "metadata": {
        "id": "N9F3IrKqBvo_"
      }
    },
    {
      "cell_type": "markdown",
      "source": [
        "## Project Overview\n",
        "\n"
      ],
      "metadata": {
        "id": "gfs4YsKMBvmZ"
      }
    },
    {
      "cell_type": "markdown",
      "source": [
        "## Load and Inspect Data\n"
      ],
      "metadata": {
        "id": "kBoaklalBvjy"
      }
    },
    {
      "cell_type": "code",
      "source": [],
      "metadata": {
        "id": "DMDy8Y15CfmO"
      },
      "execution_count": null,
      "outputs": []
    },
    {
      "cell_type": "markdown",
      "source": [
        "## Clean Data\n",
        "\n"
      ],
      "metadata": {
        "id": "2utfIRYhBvhL"
      }
    },
    {
      "cell_type": "code",
      "source": [],
      "metadata": {
        "id": "zUBh4NBGCgV6"
      },
      "execution_count": null,
      "outputs": []
    },
    {
      "cell_type": "markdown",
      "source": [
        "## Exploratory Data Analysis\n"
      ],
      "metadata": {
        "id": "YiaK1wHoB6NB"
      }
    },
    {
      "cell_type": "code",
      "source": [],
      "metadata": {
        "id": "Bz2FqHeRChST"
      },
      "execution_count": null,
      "outputs": []
    },
    {
      "cell_type": "markdown",
      "source": [
        "## Feature Inspection\n"
      ],
      "metadata": {
        "id": "b70BneeXB9CR"
      }
    },
    {
      "cell_type": "code",
      "execution_count": null,
      "metadata": {
        "id": "RBnGisK2BRH-"
      },
      "outputs": [],
      "source": []
    }
  ]
}